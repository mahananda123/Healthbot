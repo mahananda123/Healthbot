{
  "cells": [
    {
      "cell_type": "code",
      "execution_count": 27,
      "metadata": {},
      "outputs": [
        {
          "name": "stdout",
          "output_type": "stream",
          "text": [
            "Requirement already satisfied: scikit-learn==1.0.2 in c:\\users\\dell\\anaconda3\\envs\\tensorflow\\lib\\site-packages (1.0.2)\n",
            "Requirement already satisfied: numpy>=1.14.6 in c:\\users\\dell\\anaconda3\\envs\\tensorflow\\lib\\site-packages (from scikit-learn==1.0.2) (1.21.5)\n",
            "Requirement already satisfied: scipy>=1.1.0 in c:\\users\\dell\\anaconda3\\envs\\tensorflow\\lib\\site-packages (from scikit-learn==1.0.2) (1.7.3)\n",
            "Requirement already satisfied: threadpoolctl>=2.0.0 in c:\\users\\dell\\anaconda3\\envs\\tensorflow\\lib\\site-packages (from scikit-learn==1.0.2) (3.1.0)\n",
            "Requirement already satisfied: joblib>=0.11 in c:\\users\\dell\\anaconda3\\envs\\tensorflow\\lib\\site-packages (from scikit-learn==1.0.2) (1.3.2)\n",
            "Note: you may need to restart the kernel to use updated packages.\n"
          ]
        }
      ],
      "source": [
        "%pip install scikit-learn==1.0.2"
      ]
    },
    {
      "cell_type": "code",
      "execution_count": 28,
      "metadata": {
        "id": "Wrjkr5mOLlf-"
      },
      "outputs": [],
      "source": [
        "import re\n",
        "import sys\n",
        "import pandas as pd\n",
        "import pyttsx3\n",
        "from sklearn import preprocessing\n",
        "from sklearn.tree import DecisionTreeClassifier,_tree\n",
        "import numpy as np\n",
        "from sklearn.model_selection import train_test_split\n",
        "from sklearn.model_selection import cross_val_score\n",
        "from sklearn.svm import SVC\n",
        "import csv\n",
        "import warnings"
      ]
    },
    {
      "cell_type": "code",
      "execution_count": 29,
      "metadata": {
        "colab": {
          "base_uri": "https://localhost:8080/"
        },
        "id": "eT7DTBvNlI9W",
        "outputId": "fad434ae-6d6d-4497-f682-ef4df9c09da0"
      },
      "outputs": [],
      "source": [
        "# pip install pyttsx3\n",
        "# %pip install flask"
      ]
    },
    {
      "cell_type": "code",
      "execution_count": 30,
      "metadata": {
        "colab": {
          "base_uri": "https://localhost:8080/"
        },
        "id": "5E_KgMkpk_Vo",
        "outputId": "30a1c319-49f6-4eeb-bfb9-c62ab745abea"
      },
      "outputs": [],
      "source": [
        "# # prompt: code to know the version of dependencies\n",
        "\n",
        "# import re\n",
        "# import sys\n",
        "# import pandas as pd\n",
        "# import pyttsx3\n",
        "# from sklearn import preprocessing\n",
        "# from sklearn.tree import DecisionTreeClassifier,_tree\n",
        "# import numpy as np\n",
        "# from sklearn.model_selection import train_test_split\n",
        "# from sklearn.model_selection import cross_val_score\n",
        "# from sklearn.svm import SVC\n",
        "# import csv\n",
        "# import warnings\n",
        "\n",
        "# print(\"Python version:\", sys.version)\n",
        "\n",
        "# # Use pip show to get the versions\n",
        "# !pip show pandas | grep Version\n",
        "# !pip show pyttsx3 | grep Version\n",
        "# !pip show scikit-learn | grep Version # scikit-learn is the correct package name\n",
        "# !pip show numpy | grep Version\n",
        "# !pip show scikit-learn | grep Version # scikit-learn is the correct package name\n",
        "\n",
        "# !pip show numpy | grep Version\n",
        "# !pip show csv | grep Version # csv is a built-in module, so pip show won't work\n",
        "# print(\"csv: built-in module\")\n",
        "# !pip show warnings | grep Version # warnings is a built-in module\n",
        "# print(\"warnings: built-in module\")\n"
      ]
    },
    {
      "cell_type": "code",
      "execution_count": 31,
      "metadata": {
        "id": "79JhZvMGL3XT"
      },
      "outputs": [],
      "source": [
        "color = sys.stdout\n",
        "warnings.filterwarnings(\"ignore\", category=DeprecationWarning)"
      ]
    },
    {
      "cell_type": "code",
      "execution_count": 32,
      "metadata": {
        "id": "5LWvIcK9L5dU"
      },
      "outputs": [],
      "source": [
        "training = pd.read_csv('Training.csv')\n",
        "testing= pd.read_csv('Testing.csv')\n",
        "cols= training.columns\n",
        "cols= cols[:-1]\n",
        "x = training[cols]\n",
        "y = training['prognosis']\n",
        "y1= y"
      ]
    },
    {
      "cell_type": "code",
      "execution_count": 33,
      "metadata": {
        "id": "kzP3HxbwMBN7"
      },
      "outputs": [],
      "source": [
        "\n",
        "reduced_data = training.groupby(training['prognosis']).max()"
      ]
    },
    {
      "cell_type": "code",
      "execution_count": 34,
      "metadata": {
        "id": "JWg-5IW4MDUU"
      },
      "outputs": [],
      "source": [
        "#mapping strings to numbers\n",
        "le = preprocessing.LabelEncoder()\n",
        "le.fit(y)\n",
        "y = le.transform(y)"
      ]
    },
    {
      "cell_type": "code",
      "execution_count": 35,
      "metadata": {
        "id": "dH6gh8fnME5S"
      },
      "outputs": [],
      "source": [
        "x_train, x_test, y_train, y_test = train_test_split(x, y, test_size=0.33, random_state=42)\n",
        "testx    = testing[cols]\n",
        "testy    = testing['prognosis']\n",
        "testy    = le.transform(testy)"
      ]
    },
    {
      "cell_type": "code",
      "execution_count": 36,
      "metadata": {
        "id": "mlsADnJbMHoG"
      },
      "outputs": [],
      "source": [
        "clf1  = DecisionTreeClassifier()\n",
        "clf = clf1.fit(x_train.values,y_train)\n",
        "# print(clf.score(x_train,y_train))\n",
        "# print (\"cross result========\")\n",
        "scores = cross_val_score(clf, x_test, y_test, cv=3)\n",
        "# print (scores)\n",
        "#print (scores.mean())"
      ]
    },
    {
      "cell_type": "code",
      "execution_count": 37,
      "metadata": {
        "colab": {
          "base_uri": "https://localhost:8080/",
          "height": 80
        },
        "id": "AW035LjAMLFx",
        "outputId": "b6758866-b8b1-44a5-c819-fcacabbdecdb"
      },
      "outputs": [
        {
          "data": {
            "text/plain": [
              "SVC()"
            ]
          },
          "execution_count": 37,
          "metadata": {},
          "output_type": "execute_result"
        }
      ],
      "source": [
        "\n",
        "\n",
        "model=SVC()\n",
        "model.fit(x_train.values,y_train)\n",
        "#print(\"for svm: \")\n",
        "#print(model.score(x_test,y_test))"
      ]
    },
    {
      "cell_type": "code",
      "execution_count": 38,
      "metadata": {
        "id": "jbq-Rm7GMM-N"
      },
      "outputs": [],
      "source": [
        "importances = clf.feature_importances_\n",
        "indices = np.argsort(importances)[::-1]\n",
        "features = cols"
      ]
    },
    {
      "cell_type": "code",
      "execution_count": 39,
      "metadata": {
        "id": "7uEpbJqMMPgJ"
      },
      "outputs": [],
      "source": [
        "def readn(nstr):\n",
        "    engine = pyttsx3.init()\n",
        "\n",
        "    engine.setProperty('voice', \"english+f5\")\n",
        "    engine.setProperty('rate', 130)\n",
        "\n",
        "    engine.say(nstr)\n",
        "    engine.runAndWait()\n",
        "    engine.stop()"
      ]
    },
    {
      "cell_type": "code",
      "execution_count": 40,
      "metadata": {
        "id": "ZoyR6qj3MSP9"
      },
      "outputs": [],
      "source": [
        "\n",
        "severityDictionary=dict()\n",
        "description_list = dict()\n",
        "precautionDictionary=dict()\n",
        "\n",
        "symptoms_dict = {}\n",
        "\n",
        "for index, symptom in enumerate(x):\n",
        "       symptoms_dict[symptom] = index"
      ]
    },
    {
      "cell_type": "code",
      "execution_count": 41,
      "metadata": {
        "id": "cozDn8PPMUVs"
      },
      "outputs": [],
      "source": [
        "\n",
        "def calc_condition(exp,days):\n",
        "    sum=0\n",
        "    for item in exp:\n",
        "        sum=sum+severityDictionary[item]\n",
        "        #import pdb;pdb.set_trace()\n",
        "    if((sum*days)/(len(exp)+1)>13):\n",
        "        color.write(\"You should take the consultation from doctor.\")#,\"COMMENT\")\n",
        "        print()\n",
        "    else:\n",
        "        color.write(\"It might not be that bad but you should take precautions.\")# ,\"STRING\")\n",
        "        print()\n"
      ]
    },
    {
      "cell_type": "code",
      "execution_count": 42,
      "metadata": {
        "id": "1Gk9HvnGMT_0"
      },
      "outputs": [],
      "source": [
        "def getDescription():\n",
        "    global description_list\n",
        "    with open('symptom_Description.csv') as csv_file:\n",
        "        csv_reader = csv.reader(csv_file, delimiter=',')\n",
        "        line_count = 0\n",
        "        for row in csv_reader:\n",
        "            _description={row[0]:row[1]}\n",
        "            description_list.update(_description)\n"
      ]
    },
    {
      "cell_type": "code",
      "execution_count": 43,
      "metadata": {
        "id": "7QUbOZZlMcCD"
      },
      "outputs": [],
      "source": [
        "def getSeverityDict():\n",
        "    global severityDictionary\n",
        "    with open('Symptom_severity.csv') as csv_file:\n",
        "\n",
        "        csv_reader = csv.reader(csv_file, delimiter=',')\n",
        "        line_count = 0\n",
        "        try:\n",
        "            for row in csv_reader:\n",
        "                _diction={row[0]:int(row[1])}\n",
        "                severityDictionary.update(_diction)\n",
        "        except:\n",
        "            pass"
      ]
    },
    {
      "cell_type": "code",
      "execution_count": 44,
      "metadata": {
        "id": "h9Br5a-HMd8U"
      },
      "outputs": [],
      "source": [
        "def getprecautionDict():\n",
        "    global precautionDictionary\n",
        "    with open('symptom_precaution.csv') as csv_file:\n",
        "\n",
        "        csv_reader = csv.reader(csv_file, delimiter=',')\n",
        "        line_count = 0\n",
        "        for row in csv_reader:\n",
        "            _prec={row[0]:[row[1],row[2],row[3],row[4]]}\n",
        "            precautionDictionary.update(_prec)\n",
        "\n"
      ]
    },
    {
      "cell_type": "code",
      "execution_count": 45,
      "metadata": {
        "id": "NmRT9w89Mfm6"
      },
      "outputs": [],
      "source": [
        "def getInfo():\n",
        "    print(\"-----------------------------------HealthCare ChatBot-----------------------------------\")\n",
        "    print(\"\\nYour Name? \\t\\t\\t\\t\",end=\"->\")\n",
        "    name=input(\"\")\n",
        "    print(\"Hello, \",name)"
      ]
    },
    {
      "cell_type": "code",
      "execution_count": 46,
      "metadata": {
        "id": "Sd3r4aHGMhxn"
      },
      "outputs": [],
      "source": [
        "\n",
        "def check_pattern(dis_list,inp):\n",
        "    pred_list=[]\n",
        "    inp=inp.replace(' ','_')\n",
        "    patt = f\"{inp}\"\n",
        "    regexp = re.compile(patt)\n",
        "    pred_list=[item for item in dis_list if regexp.search(item)]\n",
        "    if(len(pred_list)>0):\n",
        "        return 1,pred_list\n",
        "    else:\n",
        "        return 0,[]"
      ]
    },
    {
      "cell_type": "code",
      "execution_count": 47,
      "metadata": {
        "id": "Pz3Cfo2GMkEd"
      },
      "outputs": [],
      "source": [
        "def sec_predict(symptoms_exp):\n",
        "    df = pd.read_csv('Training.csv')\n",
        "    X = df.iloc[:, :-1]\n",
        "    y = df['prognosis']\n",
        "    X_train, X_test, y_train, y_test = train_test_split(X, y, test_size=0.3, random_state=20)\n",
        "    rf_clf = DecisionTreeClassifier()\n",
        "    rf_clf.fit(X_train.values, y_train)\n",
        "\n",
        "    symptoms_dict = {symptom: index for index, symptom in enumerate(X)}\n",
        "    input_vector = np.zeros(len(symptoms_dict))\n",
        "    for item in symptoms_exp:\n",
        "      input_vector[[symptoms_dict[item]]] = 1\n",
        "\n",
        "    return rf_clf.predict([input_vector])"
      ]
    },
    {
      "cell_type": "code",
      "execution_count": 48,
      "metadata": {
        "id": "ss3sqXkBMo0G"
      },
      "outputs": [],
      "source": [
        "\n",
        "def print_disease(node):\n",
        "    node = node[0]\n",
        "    val  = node.nonzero()\n",
        "    disease = le.inverse_transform(val[0])\n",
        "    return list(map(lambda x:x.strip(),list(disease)))"
      ]
    },
    {
      "cell_type": "code",
      "execution_count": 49,
      "metadata": {
        "id": "INgeZpy2K9gx"
      },
      "outputs": [],
      "source": [
        "def tree_to_code(tree, feature_names):\n",
        "    tree_ = tree.tree_\n",
        "    feature_name = [\n",
        "        feature_names[i] if i != _tree.TREE_UNDEFINED else \"undefined!\"\n",
        "        for i in tree_.feature\n",
        "    ]\n",
        "\n",
        "    chk_dis=\",\".join(feature_names).split(\",\")\n",
        "    symptoms_present = []\n",
        "\n",
        "    while True:\n",
        "\n",
        "        print(\"\\nEnter the symptom you are experiencing  \\t\\t\",end=\"->\")\n",
        "        disease_input = input(\"\")\n",
        "        conf,cnf_dis=check_pattern(chk_dis,disease_input)\n",
        "        if conf==1:\n",
        "            print(\"searches related to input: \")\n",
        "            for num,it in enumerate(cnf_dis):\n",
        "                print(num,\")\",it)\n",
        "            if num!=0:\n",
        "                print(f\"Select the one you meant (0 - {num}):  \", end=\"\")\n",
        "                conf_inp = int(input(\"\"))\n",
        "            else:\n",
        "                conf_inp=0\n",
        "\n",
        "            disease_input=cnf_dis[conf_inp]\n",
        "            break\n",
        "            # print(\"Did you mean: \",cnf_dis,\"?(yes/no) :\",end=\"\")\n",
        "            # conf_inp = input(\"\")\n",
        "            # if(conf_inp==\"yes\"):\n",
        "            #     break\n",
        "        else:\n",
        "            print(\"Enter valid symptom.\")\n",
        "\n",
        "    while True:\n",
        "        try:\n",
        "            num_days=int(input(\"Okay. From how many days ? : \"))\n",
        "            num_days = 7 if num_days>20 else num_days\n",
        "            #import pdb;pdb.set_trace()\n",
        "            break\n",
        "        except:\n",
        "            print(\"Enter valid input.\")\n",
        "    def recurse(node, depth):\n",
        "        indent = \"  \" * depth\n",
        "        if tree_.feature[node] != _tree.TREE_UNDEFINED:\n",
        "            name = feature_name[node]\n",
        "            threshold = tree_.threshold[node]\n",
        "\n",
        "            if name == disease_input:\n",
        "                val = 1\n",
        "            else:\n",
        "                val = 0\n",
        "            if  val <= threshold:\n",
        "                recurse(tree_.children_left[node], depth + 1)\n",
        "            else:\n",
        "                symptoms_present.append(name)\n",
        "                recurse(tree_.children_right[node], depth + 1)\n",
        "        else:\n",
        "            present_disease = print_disease(tree_.value[node])\n",
        "            # print( \"You may have \" +  present_disease )\n",
        "            red_cols = reduced_data.columns \n",
        "            symptoms_given = red_cols[reduced_data.loc[present_disease].values[0].nonzero()]\n",
        "            # dis_list=list(symptoms_present)\n",
        "            # if len(dis_list)!=0:\n",
        "            #     print(\"symptoms present  \" + str(list(symptoms_present)))\n",
        "            # print(\"symptoms given \"  +  str(list(symptoms_given)) )\n",
        "            color.write(\"Are you experiencing any \")#,\"KEYWORD\")\n",
        "            symptoms_exp=[]\n",
        "            for syms in list(symptoms_given):\n",
        "                inp=\"\"\n",
        "                print(syms,\"? : \",end='')\n",
        "                while True:\n",
        "                    inp=input(\"\")\n",
        "                    if(inp==\"yes\" or inp==\"no\"):\n",
        "                        break\n",
        "                    else:\n",
        "                        print(\"provide proper answers i.e. (yes/no) : \",end=\"\")\n",
        "                if(inp==\"yes\"):\n",
        "                    symptoms_exp.append(syms)\n",
        "\n",
        "            second_prediction=sec_predict(symptoms_exp)\n",
        "            # print(second_prediction)\n",
        "            calc_condition(symptoms_exp,num_days)\n",
        "            if(present_disease[0]==second_prediction[0]):\n",
        "                print(\"You may have \", present_disease[0])\n",
        "                print()\n",
        "                print(description_list[present_disease[0]])\n",
        "                row = doctors[doctors['disease'] == present_disease[0]]\n",
        "                print()\n",
        "                print('Consult',str(row['name'].values))\n",
        "                print()\n",
        "                print('Visit',str(row['link'].values))\n",
        "                print()\n",
        "                # readn(f\"You may have {present_disease[0]}\")\n",
        "                # readn(f\"{description_list[present_disease[0]]}\")\n",
        "\n",
        "            else:\n",
        "                print(\"You may have \", present_disease[0], \"or \", second_prediction[0])\n",
        "                print()\n",
        "                print(description_list[present_disease[0]])\n",
        "                print(description_list[second_prediction[0]])\n",
        "                row = doctors[doctors['disease'] == present_disease[0]]\n",
        "                print()\n",
        "                print('Consult',str(row['name'].values))\n",
        "                print()\n",
        "                print('Visit',str(row['link'].values))\n",
        "                print()\n",
        "\n",
        "            # print(description_list[present_disease[0]])\n",
        "            precution_list=precautionDictionary[present_disease[0]]\n",
        "            print(\"Take following measures : \")\n",
        "            print()\n",
        "            for  i,j in enumerate(precution_list):\n",
        "                print(i+1,\")\",j)\n",
        "\n",
        "            # confidence_level = (1.0*len(symptoms_present))/len(symptoms_given)\n",
        "            # print(\"confidence level is \" + str(confidence_level))\n",
        "\n",
        "    recurse(0, 1)"
      ]
    },
    {
      "cell_type": "code",
      "execution_count": 50,
      "metadata": {
        "colab": {
          "base_uri": "https://localhost:8080/"
        },
        "id": "-6ZeTx7QMwKN",
        "outputId": "38b65d4f-a562-4751-c7e5-694289a77abe"
      },
      "outputs": [
        {
          "name": "stdout",
          "output_type": "stream",
          "text": [
            "-----------------------------------HealthCare ChatBot-----------------------------------\n",
            "\n",
            "Your Name? \t\t\t\t->Hello,  maha\n",
            "\n",
            "Enter the symptom you are experiencing  \t\t->Enter valid symptom.\n",
            "\n",
            "Enter the symptom you are experiencing  \t\t->Enter valid symptom.\n",
            "\n",
            "Enter the symptom you are experiencing  \t\t->searches related to input: \n",
            "0 ) high_fever\n",
            "1 ) mild_fever\n",
            "Select the one you meant (0 - 1):  Are you experiencing any muscle_weakness ? : stiff_neck ? : swelling_joints ? : movement_stiffness ? : painful_walking ? : It might not be that bad but you should take precautions.\n",
            "You may have  Arthritis or  Typhoid\n",
            "\n",
            "Arthritis is the swelling and tenderness of one or more of your joints. The main symptoms of arthritis are joint pain and stiffness, which typically worsen with age. The most common types of arthritis are osteoarthritis and rheumatoid arthritis.\n",
            "An acute illness characterized by fever caused by infection with the bacterium Salmonella typhi. Typhoid fever has an insidious onset, with fever, headache, constipation, malaise, chills, and muscle pain. Diarrhea is uncommon, and vomiting is not usually severe.\n",
            "\n",
            "Consult ['Dr. Sunanda G V']\n",
            "\n",
            "Visit ['https://www.lybrate.com/tumkur/doctor/dr-sunanda-gv-homeopathy-doctor?lpt=PS-SRP']\n",
            "\n",
            "Take following measures : \n",
            "\n",
            "1 ) exercise\n",
            "2 ) use hot and cold therapy\n",
            "3 ) try acupuncture\n",
            "4 ) massage\n",
            "----------------------------------------------------------------------------------------\n"
          ]
        }
      ],
      "source": [
        "doc_dataset = pd.read_csv('doctors_dataset.csv', names = ['Name', 'Description'])\n",
        "\n",
        "\n",
        "diseases = reduced_data.index\n",
        "diseases = pd.DataFrame(diseases)\n",
        "\n",
        "doctors = pd.DataFrame()\n",
        "doctors['name'] = np.nan\n",
        "doctors['link'] = np.nan\n",
        "doctors['disease'] = np.nan\n",
        "\n",
        "doctors['disease'] = diseases['prognosis']\n",
        "\n",
        "\n",
        "doctors['name'] = doc_dataset['Name']\n",
        "doctors['link'] = doc_dataset['Description']\n",
        "\n",
        "record = doctors[doctors['disease'] == 'AIDS']\n",
        "record['name']\n",
        "record['link']\n",
        "getSeverityDict()\n",
        "getDescription()\n",
        "getprecautionDict()\n",
        "getInfo()\n",
        "tree_to_code(clf,cols)\n",
        "#import pdb;pdb.set_trace()\n",
        "print(\"----------------------------------------------------------------------------------------\")"
      ]
    },
    {
      "cell_type": "code",
      "execution_count": null,
      "metadata": {},
      "outputs": [],
      "source": []
    },
    {
      "cell_type": "code",
      "execution_count": 51,
      "metadata": {
        "id": "2nbtfo658VMF"
      },
      "outputs": [],
      "source": [
        "import pickle\n",
        "with open(\"svm_model.pkl\", \"wb\") as model_file:\n",
        "    pickle.dump(model, model_file)\n",
        "\n",
        "with open(\"label_encoder.pkl\", \"wb\") as le_file:\n",
        "    pickle.dump(le, le_file)"
      ]
    },
    {
      "cell_type": "code",
      "execution_count": 26,
      "metadata": {},
      "outputs": [
        {
          "data": {
            "text/html": [
              "<div>\n",
              "<style scoped>\n",
              "    .dataframe tbody tr th:only-of-type {\n",
              "        vertical-align: middle;\n",
              "    }\n",
              "\n",
              "    .dataframe tbody tr th {\n",
              "        vertical-align: top;\n",
              "    }\n",
              "\n",
              "    .dataframe thead th {\n",
              "        text-align: right;\n",
              "    }\n",
              "</style>\n",
              "<table border=\"1\" class=\"dataframe\">\n",
              "  <thead>\n",
              "    <tr style=\"text-align: right;\">\n",
              "      <th></th>\n",
              "      <th>itching</th>\n",
              "      <th>skin_rash</th>\n",
              "      <th>nodal_skin_eruptions</th>\n",
              "      <th>continuous_sneezing</th>\n",
              "      <th>shivering</th>\n",
              "      <th>chills</th>\n",
              "      <th>joint_pain</th>\n",
              "      <th>stomach_pain</th>\n",
              "      <th>acidity</th>\n",
              "      <th>ulcers_on_tongue</th>\n",
              "      <th>...</th>\n",
              "      <th>blackheads</th>\n",
              "      <th>scurring</th>\n",
              "      <th>skin_peeling</th>\n",
              "      <th>silver_like_dusting</th>\n",
              "      <th>small_dents_in_nails</th>\n",
              "      <th>inflammatory_nails</th>\n",
              "      <th>blister</th>\n",
              "      <th>red_sore_around_nose</th>\n",
              "      <th>yellow_crust_ooze</th>\n",
              "      <th>prognosis</th>\n",
              "    </tr>\n",
              "  </thead>\n",
              "  <tbody>\n",
              "    <tr>\n",
              "      <th>0</th>\n",
              "      <td>1</td>\n",
              "      <td>1</td>\n",
              "      <td>1</td>\n",
              "      <td>0</td>\n",
              "      <td>0</td>\n",
              "      <td>0</td>\n",
              "      <td>0</td>\n",
              "      <td>0</td>\n",
              "      <td>0</td>\n",
              "      <td>0</td>\n",
              "      <td>...</td>\n",
              "      <td>0</td>\n",
              "      <td>0</td>\n",
              "      <td>0</td>\n",
              "      <td>0</td>\n",
              "      <td>0</td>\n",
              "      <td>0</td>\n",
              "      <td>0</td>\n",
              "      <td>0</td>\n",
              "      <td>0</td>\n",
              "      <td>Fungal infection</td>\n",
              "    </tr>\n",
              "    <tr>\n",
              "      <th>1</th>\n",
              "      <td>0</td>\n",
              "      <td>1</td>\n",
              "      <td>1</td>\n",
              "      <td>0</td>\n",
              "      <td>0</td>\n",
              "      <td>0</td>\n",
              "      <td>0</td>\n",
              "      <td>0</td>\n",
              "      <td>0</td>\n",
              "      <td>0</td>\n",
              "      <td>...</td>\n",
              "      <td>0</td>\n",
              "      <td>0</td>\n",
              "      <td>0</td>\n",
              "      <td>0</td>\n",
              "      <td>0</td>\n",
              "      <td>0</td>\n",
              "      <td>0</td>\n",
              "      <td>0</td>\n",
              "      <td>0</td>\n",
              "      <td>Fungal infection</td>\n",
              "    </tr>\n",
              "    <tr>\n",
              "      <th>2</th>\n",
              "      <td>1</td>\n",
              "      <td>0</td>\n",
              "      <td>1</td>\n",
              "      <td>0</td>\n",
              "      <td>0</td>\n",
              "      <td>0</td>\n",
              "      <td>0</td>\n",
              "      <td>0</td>\n",
              "      <td>0</td>\n",
              "      <td>0</td>\n",
              "      <td>...</td>\n",
              "      <td>0</td>\n",
              "      <td>0</td>\n",
              "      <td>0</td>\n",
              "      <td>0</td>\n",
              "      <td>0</td>\n",
              "      <td>0</td>\n",
              "      <td>0</td>\n",
              "      <td>0</td>\n",
              "      <td>0</td>\n",
              "      <td>Fungal infection</td>\n",
              "    </tr>\n",
              "    <tr>\n",
              "      <th>3</th>\n",
              "      <td>1</td>\n",
              "      <td>1</td>\n",
              "      <td>0</td>\n",
              "      <td>0</td>\n",
              "      <td>0</td>\n",
              "      <td>0</td>\n",
              "      <td>0</td>\n",
              "      <td>0</td>\n",
              "      <td>0</td>\n",
              "      <td>0</td>\n",
              "      <td>...</td>\n",
              "      <td>0</td>\n",
              "      <td>0</td>\n",
              "      <td>0</td>\n",
              "      <td>0</td>\n",
              "      <td>0</td>\n",
              "      <td>0</td>\n",
              "      <td>0</td>\n",
              "      <td>0</td>\n",
              "      <td>0</td>\n",
              "      <td>Fungal infection</td>\n",
              "    </tr>\n",
              "    <tr>\n",
              "      <th>4</th>\n",
              "      <td>1</td>\n",
              "      <td>1</td>\n",
              "      <td>1</td>\n",
              "      <td>0</td>\n",
              "      <td>0</td>\n",
              "      <td>0</td>\n",
              "      <td>0</td>\n",
              "      <td>0</td>\n",
              "      <td>0</td>\n",
              "      <td>0</td>\n",
              "      <td>...</td>\n",
              "      <td>0</td>\n",
              "      <td>0</td>\n",
              "      <td>0</td>\n",
              "      <td>0</td>\n",
              "      <td>0</td>\n",
              "      <td>0</td>\n",
              "      <td>0</td>\n",
              "      <td>0</td>\n",
              "      <td>0</td>\n",
              "      <td>Fungal infection</td>\n",
              "    </tr>\n",
              "  </tbody>\n",
              "</table>\n",
              "<p>5 rows × 133 columns</p>\n",
              "</div>"
            ],
            "text/plain": [
              "   itching  skin_rash  nodal_skin_eruptions  continuous_sneezing  shivering  \\\n",
              "0        1          1                     1                    0          0   \n",
              "1        0          1                     1                    0          0   \n",
              "2        1          0                     1                    0          0   \n",
              "3        1          1                     0                    0          0   \n",
              "4        1          1                     1                    0          0   \n",
              "\n",
              "   chills  joint_pain  stomach_pain  acidity  ulcers_on_tongue  ...  \\\n",
              "0       0           0             0        0                 0  ...   \n",
              "1       0           0             0        0                 0  ...   \n",
              "2       0           0             0        0                 0  ...   \n",
              "3       0           0             0        0                 0  ...   \n",
              "4       0           0             0        0                 0  ...   \n",
              "\n",
              "   blackheads  scurring  skin_peeling  silver_like_dusting  \\\n",
              "0           0         0             0                    0   \n",
              "1           0         0             0                    0   \n",
              "2           0         0             0                    0   \n",
              "3           0         0             0                    0   \n",
              "4           0         0             0                    0   \n",
              "\n",
              "   small_dents_in_nails  inflammatory_nails  blister  red_sore_around_nose  \\\n",
              "0                     0                   0        0                     0   \n",
              "1                     0                   0        0                     0   \n",
              "2                     0                   0        0                     0   \n",
              "3                     0                   0        0                     0   \n",
              "4                     0                   0        0                     0   \n",
              "\n",
              "   yellow_crust_ooze         prognosis  \n",
              "0                  0  Fungal infection  \n",
              "1                  0  Fungal infection  \n",
              "2                  0  Fungal infection  \n",
              "3                  0  Fungal infection  \n",
              "4                  0  Fungal infection  \n",
              "\n",
              "[5 rows x 133 columns]"
            ]
          },
          "execution_count": 26,
          "metadata": {},
          "output_type": "execute_result"
        }
      ],
      "source": [
        "import pandas as pd\n",
        "df=pd.read_csv(\"Training.csv\")\n",
        "df.head()"
      ]
    },
    {
      "cell_type": "code",
      "execution_count": null,
      "metadata": {
        "colab": {
          "base_uri": "https://localhost:8080/"
        },
        "id": "68Zg9AonMxO2",
        "outputId": "67268792-8d72-443f-c97c-aa5ea89af3ec"
      },
      "outputs": [
        {
          "name": "stdout",
          "output_type": "stream",
          "text": [
            " * Serving Flask app '__main__'\n",
            " * Debug mode: off\n"
          ]
        },
        {
          "name": "stderr",
          "output_type": "stream",
          "text": [
            "INFO:werkzeug:\u001b[31m\u001b[1mWARNING: This is a development server. Do not use it in a production deployment. Use a production WSGI server instead.\u001b[0m\n",
            " * Running on all addresses (0.0.0.0)\n",
            " * Running on http://127.0.0.1:5000\n",
            " * Running on http://172.28.0.12:5000\n",
            "INFO:werkzeug:\u001b[33mPress CTRL+C to quit\u001b[0m\n"
          ]
        }
      ],
      "source": [
        "# # app.py: Flask application for healthcare diagnostic system\n",
        "\n",
        "# from flask import Flask, request, jsonify\n",
        "# import pickle\n",
        "# import pandas as pd\n",
        "\n",
        "# app = Flask(__name__)\n",
        "\n",
        "# # Load trained models and other assets\n",
        "# model = pickle.load(open(\"svm_model.pkl\", \"rb\"))\n",
        "# label_encoder = pickle.load(open(\"label_encoder.pkl\", \"rb\"))\n",
        "\n",
        "# @app.route('/predict', methods=['POST'])\n",
        "# def predict():\n",
        "#     try:\n",
        "#         data = request.json\n",
        "#         symptoms = pd.DataFrame([data['symptoms']])\n",
        "#         prediction = model.predict(symptoms)\n",
        "#         disease = label_encoder.inverse_transform(prediction)\n",
        "#         return jsonify({\"disease\": disease[0]})\n",
        "#     except Exception as e:\n",
        "#         return jsonify({\"error\": str(e)}), 400\n",
        "\n",
        "# if __name__ == '__main__':\n",
        "#     app.run(host='0.0.0.0', port=5000)\n"
      ]
    },
    {
      "cell_type": "code",
      "execution_count": null,
      "metadata": {
        "id": "zgqtYP787_Lt"
      },
      "outputs": [],
      "source": []
    }
  ],
  "metadata": {
    "accelerator": "GPU",
    "colab": {
      "gpuType": "T4",
      "provenance": []
    },
    "kernelspec": {
      "display_name": "tensorflow",
      "language": "python",
      "name": "python3"
    },
    "language_info": {
      "codemirror_mode": {
        "name": "ipython",
        "version": 3
      },
      "file_extension": ".py",
      "mimetype": "text/x-python",
      "name": "python",
      "nbconvert_exporter": "python",
      "pygments_lexer": "ipython3",
      "version": "3.7.6"
    }
  },
  "nbformat": 4,
  "nbformat_minor": 0
}
